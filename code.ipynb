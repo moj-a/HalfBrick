{
  "nbformat": 4,
  "nbformat_minor": 0,
  "metadata": {
    "colab": {
      "name": "Analyst code.ipynb",
      "provenance": [],
      "authorship_tag": "ABX9TyOB0U4y/7g75Qkcm4ftpMAD",
      "include_colab_link": true
    },
    "kernelspec": {
      "name": "python3",
      "display_name": "Python 3"
    }
  },
  "cells": [
    {
      "cell_type": "markdown",
      "metadata": {
        "id": "view-in-github",
        "colab_type": "text"
      },
      "source": [
        "<a href=\"https://colab.research.google.com/github/moj-a/HalfBrick/blob/main/Analyst_code.ipynb\" target=\"_parent\"><img src=\"https://colab.research.google.com/assets/colab-badge.svg\" alt=\"Open In Colab\"/></a>"
      ]
    },
    {
      "cell_type": "code",
      "metadata": {
        "colab": {
          "base_uri": "https://localhost:8080/"
        },
        "id": "NcPHiyXWuE5p",
        "outputId": "7758e648-03a3-4a8f-a4a7-15bef84edffb"
      },
      "source": [
        "# read file from google drive\n",
        "from google.colab import drive\n",
        "drive.mount('/content/gdrive')"
      ],
      "execution_count": 1,
      "outputs": [
        {
          "output_type": "stream",
          "text": [
            "Mounted at /content/gdrive\n"
          ],
          "name": "stdout"
        }
      ]
    },
    {
      "cell_type": "code",
      "metadata": {
        "colab": {
          "base_uri": "https://localhost:8080/"
        },
        "id": "bOSS08G2Z7tb",
        "outputId": "b0bb4816-b708-4779-e1fa-963ac8f7ed0a"
      },
      "source": [
        "!pip install db-sqlite3"
      ],
      "execution_count": 2,
      "outputs": [
        {
          "output_type": "stream",
          "text": [
            "Collecting db-sqlite3\n",
            "  Downloading https://files.pythonhosted.org/packages/ff/00/e1f3d7bf1e0bff7c0574c0d5535c041e139d4ce43db196147e4c62f52ed5/db-sqlite3-0.0.1.tar.gz\n",
            "Collecting db\n",
            "  Downloading https://files.pythonhosted.org/packages/a9/22/f65d64c83e63790b3273c6adb3bff338ad594f46d84b41bd1f94593b40a6/db-0.1.1.tar.gz\n",
            "Collecting antiorm\n",
            "\u001b[?25l  Downloading https://files.pythonhosted.org/packages/0b/f8/71baa4824d9666c1be51d117119579a97f461ddbded48b2e01a6ad0554b5/antiorm-1.2.1.tar.gz (171kB)\n",
            "\u001b[K     |████████████████████████████████| 174kB 8.6MB/s \n",
            "\u001b[?25hBuilding wheels for collected packages: db-sqlite3, db, antiorm\n",
            "  Building wheel for db-sqlite3 (setup.py) ... \u001b[?25l\u001b[?25hdone\n",
            "  Created wheel for db-sqlite3: filename=db_sqlite3-0.0.1-cp36-none-any.whl size=1797 sha256=c3e07a71c1e8155b3287ece34d7cda1fc5700f6aa24a70e309f8bcbbc9025a24\n",
            "  Stored in directory: /root/.cache/pip/wheels/e0/f8/cb/08e3a3a63bdea9ac3a0cccd140636b6cf94e3fb7df1070b12e\n",
            "  Building wheel for db (setup.py) ... \u001b[?25l\u001b[?25hdone\n",
            "  Created wheel for db: filename=db-0.1.1-cp36-none-any.whl size=3894 sha256=c6e764c37eb2ae0a9bb6d3faaad50d17f2b08bf1b3c1682d0e0f36e2ee6b7d24\n",
            "  Stored in directory: /root/.cache/pip/wheels/30/eb/ba/237fa002d1d1b2e73cedcefd26a9db37c4b72c7e5156ea0501\n",
            "  Building wheel for antiorm (setup.py) ... \u001b[?25l\u001b[?25hdone\n",
            "  Created wheel for antiorm: filename=antiorm-1.2.1-cp36-none-any.whl size=31666 sha256=96d10957f07c2bf79973a6c870cb3b9f7b26d852b511f703758b0fc4ceb88394\n",
            "  Stored in directory: /root/.cache/pip/wheels/b0/91/4d/f8fe808786ff1cda9e7e99e1b1bbda9196ab26786017965313\n",
            "Successfully built db-sqlite3 db antiorm\n",
            "Installing collected packages: antiorm, db, db-sqlite3\n",
            "Successfully installed antiorm-1.2.1 db-0.1.1 db-sqlite3-0.0.1\n"
          ],
          "name": "stdout"
        }
      ]
    },
    {
      "cell_type": "code",
      "metadata": {
        "id": "UBw52NvAvk4O"
      },
      "source": [
        "import csv \n",
        "import json \n",
        "import pandas as pd\n",
        "import sqlite3\n"
      ],
      "execution_count": 3,
      "outputs": []
    },
    {
      "cell_type": "code",
      "metadata": {
        "id": "IfaejN8ovly6"
      },
      "source": [
        "# Input a CSV file and convert it to JSON\n",
        "df = pd.read_csv (r'/content/gdrive/My Drive/sandbox-installs.csv')\n",
        "df.to_json (r'/content/gdrive/My Drive/sandbox-installs.json')"
      ],
      "execution_count": 4,
      "outputs": []
    },
    {
      "cell_type": "code",
      "metadata": {
        "colab": {
          "base_uri": "https://localhost:8080/",
          "height": 297
        },
        "id": "0jA4azBTvmUo",
        "outputId": "4644249d-b8be-43f5-d0bd-7e62e37761de"
      },
      "source": [
        "# Input a CSV file and present a data summary\n",
        "df.describe()"
      ],
      "execution_count": 5,
      "outputs": [
        {
          "output_type": "execute_result",
          "data": {
            "text/html": [
              "<div>\n",
              "<style scoped>\n",
              "    .dataframe tbody tr th:only-of-type {\n",
              "        vertical-align: middle;\n",
              "    }\n",
              "\n",
              "    .dataframe tbody tr th {\n",
              "        vertical-align: top;\n",
              "    }\n",
              "\n",
              "    .dataframe thead th {\n",
              "        text-align: right;\n",
              "    }\n",
              "</style>\n",
              "<table border=\"1\" class=\"dataframe\">\n",
              "  <thead>\n",
              "    <tr style=\"text-align: right;\">\n",
              "      <th></th>\n",
              "      <th>device_time_zone_offset</th>\n",
              "      <th>is_returning_user</th>\n",
              "      <th>session_id</th>\n",
              "    </tr>\n",
              "  </thead>\n",
              "  <tbody>\n",
              "    <tr>\n",
              "      <th>count</th>\n",
              "      <td>16000.000000</td>\n",
              "      <td>0.0</td>\n",
              "      <td>0.0</td>\n",
              "    </tr>\n",
              "    <tr>\n",
              "      <th>mean</th>\n",
              "      <td>10236.993750</td>\n",
              "      <td>NaN</td>\n",
              "      <td>NaN</td>\n",
              "    </tr>\n",
              "    <tr>\n",
              "      <th>std</th>\n",
              "      <td>14525.349349</td>\n",
              "      <td>NaN</td>\n",
              "      <td>NaN</td>\n",
              "    </tr>\n",
              "    <tr>\n",
              "      <th>min</th>\n",
              "      <td>-39600.000000</td>\n",
              "      <td>NaN</td>\n",
              "      <td>NaN</td>\n",
              "    </tr>\n",
              "    <tr>\n",
              "      <th>25%</th>\n",
              "      <td>7200.000000</td>\n",
              "      <td>NaN</td>\n",
              "      <td>NaN</td>\n",
              "    </tr>\n",
              "    <tr>\n",
              "      <th>50%</th>\n",
              "      <td>7200.000000</td>\n",
              "      <td>NaN</td>\n",
              "      <td>NaN</td>\n",
              "    </tr>\n",
              "    <tr>\n",
              "      <th>75%</th>\n",
              "      <td>19800.000000</td>\n",
              "      <td>NaN</td>\n",
              "      <td>NaN</td>\n",
              "    </tr>\n",
              "    <tr>\n",
              "      <th>max</th>\n",
              "      <td>46800.000000</td>\n",
              "      <td>NaN</td>\n",
              "      <td>NaN</td>\n",
              "    </tr>\n",
              "  </tbody>\n",
              "</table>\n",
              "</div>"
            ],
            "text/plain": [
              "       device_time_zone_offset  is_returning_user  session_id\n",
              "count             16000.000000                0.0         0.0\n",
              "mean              10236.993750                NaN         NaN\n",
              "std               14525.349349                NaN         NaN\n",
              "min              -39600.000000                NaN         NaN\n",
              "25%                7200.000000                NaN         NaN\n",
              "50%                7200.000000                NaN         NaN\n",
              "75%               19800.000000                NaN         NaN\n",
              "max               46800.000000                NaN         NaN"
            ]
          },
          "metadata": {
            "tags": []
          },
          "execution_count": 5
        }
      ]
    },
    {
      "cell_type": "code",
      "metadata": {
        "colab": {
          "base_uri": "https://localhost:8080/",
          "height": 445
        },
        "id": "VvWWmNE1n9tV",
        "outputId": "ecd7b866-b51a-48fd-f5b4-fe1d59db348f"
      },
      "source": [
        "df.head()"
      ],
      "execution_count": 6,
      "outputs": [
        {
          "output_type": "execute_result",
          "data": {
            "text/html": [
              "<div>\n",
              "<style scoped>\n",
              "    .dataframe tbody tr th:only-of-type {\n",
              "        vertical-align: middle;\n",
              "    }\n",
              "\n",
              "    .dataframe tbody tr th {\n",
              "        vertical-align: top;\n",
              "    }\n",
              "\n",
              "    .dataframe thead th {\n",
              "        text-align: right;\n",
              "    }\n",
              "</style>\n",
              "<table border=\"1\" class=\"dataframe\">\n",
              "  <thead>\n",
              "    <tr style=\"text-align: right;\">\n",
              "      <th></th>\n",
              "      <th>user_pseudo_id</th>\n",
              "      <th>sku</th>\n",
              "      <th>app_version</th>\n",
              "      <th>geo_country</th>\n",
              "      <th>geo_region</th>\n",
              "      <th>geo_city</th>\n",
              "      <th>install_source</th>\n",
              "      <th>ua_name</th>\n",
              "      <th>ua_medium</th>\n",
              "      <th>ua_source</th>\n",
              "      <th>device_category</th>\n",
              "      <th>device_brand_name</th>\n",
              "      <th>device_model_name</th>\n",
              "      <th>device_os_hardware_model</th>\n",
              "      <th>device_os</th>\n",
              "      <th>device_os_version</th>\n",
              "      <th>idfa</th>\n",
              "      <th>idfv</th>\n",
              "      <th>is_limited_ad_tracking</th>\n",
              "      <th>device_language</th>\n",
              "      <th>device_time_zone_offset</th>\n",
              "      <th>timestamp_raw</th>\n",
              "      <th>table_date</th>\n",
              "      <th>is_returning_user</th>\n",
              "      <th>session_id</th>\n",
              "    </tr>\n",
              "  </thead>\n",
              "  <tbody>\n",
              "    <tr>\n",
              "      <th>0</th>\n",
              "      <td>618342da2a939740379751d8914be9ae</td>\n",
              "      <td>Google Play</td>\n",
              "      <td>1.20.1</td>\n",
              "      <td>NaN</td>\n",
              "      <td>NaN</td>\n",
              "      <td>NaN</td>\n",
              "      <td>com.android.vending</td>\n",
              "      <td>NaN</td>\n",
              "      <td>organic</td>\n",
              "      <td>google-play</td>\n",
              "      <td>mobile</td>\n",
              "      <td>Alcatel</td>\n",
              "      <td>5045J</td>\n",
              "      <td>5045J</td>\n",
              "      <td>ANDROID</td>\n",
              "      <td>6.0</td>\n",
              "      <td>75558ede-137b-4158-bacd-1a39efdd0fc3</td>\n",
              "      <td>NaN</td>\n",
              "      <td>No</td>\n",
              "      <td>pt-br</td>\n",
              "      <td>-10800</td>\n",
              "      <td>2019-09-30 20:30:39.340 UTC</td>\n",
              "      <td>2019-10-01 00:00:00 UTC</td>\n",
              "      <td>NaN</td>\n",
              "      <td>NaN</td>\n",
              "    </tr>\n",
              "    <tr>\n",
              "      <th>1</th>\n",
              "      <td>583f567782f906072967c4a18d219b73</td>\n",
              "      <td>Google Play</td>\n",
              "      <td>1.20.1</td>\n",
              "      <td>NaN</td>\n",
              "      <td>NaN</td>\n",
              "      <td>NaN</td>\n",
              "      <td>com.android.vending</td>\n",
              "      <td>NaN</td>\n",
              "      <td>organic</td>\n",
              "      <td>google-play</td>\n",
              "      <td>mobile</td>\n",
              "      <td>Sony</td>\n",
              "      <td>D2306</td>\n",
              "      <td>D2306</td>\n",
              "      <td>ANDROID</td>\n",
              "      <td>5.1.1</td>\n",
              "      <td>5015da92-18b2-4c49-a481-bdcb8856ffd9</td>\n",
              "      <td>NaN</td>\n",
              "      <td>Yes</td>\n",
              "      <td>pt-br</td>\n",
              "      <td>-10800</td>\n",
              "      <td>2019-10-01 01:00:10.586 UTC</td>\n",
              "      <td>2019-10-01 00:00:00 UTC</td>\n",
              "      <td>NaN</td>\n",
              "      <td>NaN</td>\n",
              "    </tr>\n",
              "    <tr>\n",
              "      <th>2</th>\n",
              "      <td>1643a766620b059dbed5e84c8accbfa9</td>\n",
              "      <td>Google Play</td>\n",
              "      <td>1.20.1</td>\n",
              "      <td>NaN</td>\n",
              "      <td>NaN</td>\n",
              "      <td>NaN</td>\n",
              "      <td>manual_install</td>\n",
              "      <td>(direct)</td>\n",
              "      <td>(none)</td>\n",
              "      <td>(direct)</td>\n",
              "      <td>mobile</td>\n",
              "      <td>Sony</td>\n",
              "      <td>D6503</td>\n",
              "      <td>D6503</td>\n",
              "      <td>ANDROID</td>\n",
              "      <td>6.0.1</td>\n",
              "      <td>60a886c0-0ff7-45da-9253-7e0325040185</td>\n",
              "      <td>NaN</td>\n",
              "      <td>No</td>\n",
              "      <td>es-mx</td>\n",
              "      <td>-18000</td>\n",
              "      <td>2019-09-30 20:01:08.768 UTC</td>\n",
              "      <td>2019-10-01 00:00:00 UTC</td>\n",
              "      <td>NaN</td>\n",
              "      <td>NaN</td>\n",
              "    </tr>\n",
              "    <tr>\n",
              "      <th>3</th>\n",
              "      <td>259786cb107126eb5519dfaac14ec306</td>\n",
              "      <td>Google Play</td>\n",
              "      <td>1.20.1</td>\n",
              "      <td>NaN</td>\n",
              "      <td>NaN</td>\n",
              "      <td>NaN</td>\n",
              "      <td>com.android.vending</td>\n",
              "      <td>NaN</td>\n",
              "      <td>organic</td>\n",
              "      <td>google-play</td>\n",
              "      <td>mobile</td>\n",
              "      <td>Sony</td>\n",
              "      <td>D6503</td>\n",
              "      <td>D6503</td>\n",
              "      <td>ANDROID</td>\n",
              "      <td>6.0.1</td>\n",
              "      <td>60a886c0-0ff7-45da-9253-7e0325040185</td>\n",
              "      <td>NaN</td>\n",
              "      <td>No</td>\n",
              "      <td>es-mx</td>\n",
              "      <td>-18000</td>\n",
              "      <td>2019-09-30 15:46:24.388 UTC</td>\n",
              "      <td>2019-10-01 00:00:00 UTC</td>\n",
              "      <td>NaN</td>\n",
              "      <td>NaN</td>\n",
              "    </tr>\n",
              "    <tr>\n",
              "      <th>4</th>\n",
              "      <td>ee5bbedebf8b4e20ff31f1a1b559f8d1</td>\n",
              "      <td>Google Play</td>\n",
              "      <td>1.20.1</td>\n",
              "      <td>NaN</td>\n",
              "      <td>NaN</td>\n",
              "      <td>NaN</td>\n",
              "      <td>com.android.vending</td>\n",
              "      <td>NaN</td>\n",
              "      <td>organic</td>\n",
              "      <td>google-play</td>\n",
              "      <td>mobile</td>\n",
              "      <td>Huawei</td>\n",
              "      <td>INE-LX2</td>\n",
              "      <td>INE-LX2</td>\n",
              "      <td>ANDROID</td>\n",
              "      <td>9</td>\n",
              "      <td>3b34cfe5-7bf1-44d7-bf14-effa3c798c69</td>\n",
              "      <td>NaN</td>\n",
              "      <td>No</td>\n",
              "      <td>en-au</td>\n",
              "      <td>36000</td>\n",
              "      <td>2019-10-01 12:34:56.757 UTC</td>\n",
              "      <td>2019-10-01 00:00:00 UTC</td>\n",
              "      <td>NaN</td>\n",
              "      <td>NaN</td>\n",
              "    </tr>\n",
              "  </tbody>\n",
              "</table>\n",
              "</div>"
            ],
            "text/plain": [
              "                     user_pseudo_id          sku  ... is_returning_user session_id\n",
              "0  618342da2a939740379751d8914be9ae  Google Play  ...               NaN        NaN\n",
              "1  583f567782f906072967c4a18d219b73  Google Play  ...               NaN        NaN\n",
              "2  1643a766620b059dbed5e84c8accbfa9  Google Play  ...               NaN        NaN\n",
              "3  259786cb107126eb5519dfaac14ec306  Google Play  ...               NaN        NaN\n",
              "4  ee5bbedebf8b4e20ff31f1a1b559f8d1  Google Play  ...               NaN        NaN\n",
              "\n",
              "[5 rows x 25 columns]"
            ]
          },
          "metadata": {
            "tags": []
          },
          "execution_count": 6
        }
      ]
    },
    {
      "cell_type": "code",
      "metadata": {
        "id": "ztNs0we_LnKx"
      },
      "source": [
        "# create a table that fits our dataset!\n",
        "\n",
        "db=sqlite3.connect(\"testing.db\")\n",
        "db.execute(\"drop table if exists sandb\")\n",
        "try: \n",
        "  db.execute(\"create table sandb(A , user_pseudo_id, sku,\tapp_version,\tgeo_country,\tgeo_region,\tgeo_city,\tinstall_source,\tua_name,\tua_medium,\tua_source,\tdevice_category,\tdevice_brand_name,\tdevice_model_name,\tdevice_os_hardware_model,\tdevice_os,\tdevice_os_version,\tidfa,\tidfv,\tis_limited_ad_tracking,\tdevice_language,\tdevice_time_zone_offset,\ttimestamp_raw\ttable_date,\tis_returning_user,\tsession_id)\")\n",
        "except:\n",
        "  print(\"Already table existed!\")\n",
        "\n",
        "\n"
      ],
      "execution_count": 8,
      "outputs": []
    },
    {
      "cell_type": "code",
      "metadata": {
        "id": "MW582JZwRRAu"
      },
      "source": [
        "# input a CSV file and generate a SQL insert statementy for all rows in the input\n",
        "\n",
        "with open('/content/gdrive/My Drive/sandbox-installs.csv', 'r') as f:\n",
        "    reader = csv.reader(f)\n",
        "    next(reader) # Skip the header row.\n",
        "    for row in reader:\n",
        "        db.execute(\n",
        "        \"INSERT INTO sandb VALUES (?, ?, ?, ?, ?, ?, ?, ?, ?, ?, ?, ?, ?, ?, ?, ?, ?, ?, ?, ?, ?, ?, ?, ?, ?)\",\n",
        "        row\n",
        "    )\n",
        "db.commit()"
      ],
      "execution_count": 10,
      "outputs": []
    }
  ]
}
